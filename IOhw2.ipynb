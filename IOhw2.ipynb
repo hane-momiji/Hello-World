{
  "nbformat": 4,
  "nbformat_minor": 0,
  "metadata": {
    "colab": {
      "name": "IOhw2.ipynb",
      "version": "0.3.2",
      "provenance": [],
      "collapsed_sections": [],
      "include_colab_link": true
    },
    "language_info": {
      "codemirror_mode": {
        "name": "ipython",
        "version": 3
      },
      "file_extension": ".py",
      "mimetype": "text/x-python",
      "name": "python",
      "nbconvert_exporter": "python",
      "pygments_lexer": "ipython3",
      "version": "3.5.2"
    },
    "kernelspec": {
      "name": "python3",
      "display_name": "Python 3"
    },
    "accelerator": "GPU"
  },
  "cells": [
    {
      "cell_type": "markdown",
      "metadata": {
        "id": "view-in-github",
        "colab_type": "text"
      },
      "source": [
        "<a href=\"https://colab.research.google.com/github/hane-momiji/Hello-World/blob/master/IOhw2.ipynb\" target=\"_parent\"><img src=\"https://colab.research.google.com/assets/colab-badge.svg\" alt=\"Open In Colab\"/></a>"
      ]
    },
    {
      "cell_type": "code",
      "metadata": {
        "id": "rq5t9ANIDFpG",
        "colab_type": "code",
        "colab": {}
      },
      "source": [
        "import os\n",
        "import sys\n",
        "# sys.path.insert(0, '/root/userspace/IOhw2/materials')\n",
        "import math\n",
        "\n",
        "import numpy as np\n",
        "# import tensorflow as tf\n",
        "import pandas as pd\n",
        "\n",
        "\n",
        "from sklearn.utils import shuffle\n",
        "from sklearn.metrics import accuracy_score\n",
        "\n",
        "random_seed = 34\n",
        "\n",
        "np.random.seed(random_seed)\n",
        "# tf.set_random_seed(random_seed)"
      ],
      "execution_count": 0,
      "outputs": []
    },
    {
      "cell_type": "code",
      "metadata": {
        "id": "B9yV7jrIDj-5",
        "colab_type": "code",
        "outputId": "6d8105c7-ecf0-4acf-d04b-58f8f8b72186",
        "colab": {
          "base_uri": "https://localhost:8080/",
          "height": 122
        }
      },
      "source": [
        "from google.colab import drive\n",
        "drive.mount('/content/gdrive')"
      ],
      "execution_count": 2,
      "outputs": [
        {
          "output_type": "stream",
          "text": [
            "Go to this URL in a browser: https://accounts.google.com/o/oauth2/auth?client_id=947318989803-6bn6qk8qdgf4n4g3pfee6491hc0brc4i.apps.googleusercontent.com&redirect_uri=urn%3Aietf%3Awg%3Aoauth%3A2.0%3Aoob&scope=email%20https%3A%2F%2Fwww.googleapis.com%2Fauth%2Fdocs.test%20https%3A%2F%2Fwww.googleapis.com%2Fauth%2Fdrive%20https%3A%2F%2Fwww.googleapis.com%2Fauth%2Fdrive.photos.readonly%20https%3A%2F%2Fwww.googleapis.com%2Fauth%2Fpeopleapi.readonly&response_type=code\n",
            "\n",
            "Enter your authorization code:\n",
            "··········\n",
            "Mounted at /content/gdrive\n"
          ],
          "name": "stdout"
        }
      ]
    },
    {
      "cell_type": "code",
      "metadata": {
        "id": "YOYqYBJ1ERts",
        "colab_type": "code",
        "colab": {
          "base_uri": "https://localhost:8080/",
          "height": 51
        },
        "outputId": "57558608-dac2-4431-ff98-98ebea2af78c"
      },
      "source": [
        "# csv file's authorization code is 1M5Bmmlz8zxKpTbzdN8LJguCLpQaFDg5_\n",
        "# Install the PyDrive wrapper & import libraries.\n",
        "# This only needs to be done once per notebook.\n",
        "!pip install -U -q PyDrive\n",
        "from pydrive.auth import GoogleAuth\n",
        "from pydrive.drive import GoogleDrive\n",
        "from google.colab import auth\n",
        "from oauth2client.client import GoogleCredentials\n",
        "\n",
        "# check auth\n",
        "auth.authenticate_user()\n",
        "gauth = GoogleAuth()\n",
        "gauth.credentials = GoogleCredentials.get_application_default()\n",
        "drive = GoogleDrive(gauth)"
      ],
      "execution_count": 3,
      "outputs": [
        {
          "output_type": "stream",
          "text": [
            "\u001b[?25l\r\u001b[K     |▎                               | 10kB 23.8MB/s eta 0:00:01\r\u001b[K     |▋                               | 20kB 3.2MB/s eta 0:00:01\r\u001b[K     |█                               | 30kB 4.6MB/s eta 0:00:01\r\u001b[K     |█▎                              | 40kB 2.9MB/s eta 0:00:01\r\u001b[K     |█▋                              | 51kB 3.6MB/s eta 0:00:01\r\u001b[K     |██                              | 61kB 4.3MB/s eta 0:00:01\r\u001b[K     |██▎                             | 71kB 4.9MB/s eta 0:00:01\r\u001b[K     |██▋                             | 81kB 5.5MB/s eta 0:00:01\r\u001b[K     |███                             | 92kB 6.2MB/s eta 0:00:01\r\u001b[K     |███▎                            | 102kB 4.8MB/s eta 0:00:01\r\u001b[K     |███▋                            | 112kB 4.8MB/s eta 0:00:01\r\u001b[K     |████                            | 122kB 4.8MB/s eta 0:00:01\r\u001b[K     |████▎                           | 133kB 4.8MB/s eta 0:00:01\r\u001b[K     |████▋                           | 143kB 4.8MB/s eta 0:00:01\r\u001b[K     |█████                           | 153kB 4.8MB/s eta 0:00:01\r\u001b[K     |█████▎                          | 163kB 4.8MB/s eta 0:00:01\r\u001b[K     |█████▋                          | 174kB 4.8MB/s eta 0:00:01\r\u001b[K     |██████                          | 184kB 4.8MB/s eta 0:00:01\r\u001b[K     |██████▎                         | 194kB 4.8MB/s eta 0:00:01\r\u001b[K     |██████▋                         | 204kB 4.8MB/s eta 0:00:01\r\u001b[K     |███████                         | 215kB 4.8MB/s eta 0:00:01\r\u001b[K     |███████▎                        | 225kB 4.8MB/s eta 0:00:01\r\u001b[K     |███████▋                        | 235kB 4.8MB/s eta 0:00:01\r\u001b[K     |████████                        | 245kB 4.8MB/s eta 0:00:01\r\u001b[K     |████████▎                       | 256kB 4.8MB/s eta 0:00:01\r\u001b[K     |████████▋                       | 266kB 4.8MB/s eta 0:00:01\r\u001b[K     |█████████                       | 276kB 4.8MB/s eta 0:00:01\r\u001b[K     |█████████▎                      | 286kB 4.8MB/s eta 0:00:01\r\u001b[K     |█████████▋                      | 296kB 4.8MB/s eta 0:00:01\r\u001b[K     |██████████                      | 307kB 4.8MB/s eta 0:00:01\r\u001b[K     |██████████▎                     | 317kB 4.8MB/s eta 0:00:01\r\u001b[K     |██████████▋                     | 327kB 4.8MB/s eta 0:00:01\r\u001b[K     |███████████                     | 337kB 4.8MB/s eta 0:00:01\r\u001b[K     |███████████▎                    | 348kB 4.8MB/s eta 0:00:01\r\u001b[K     |███████████▋                    | 358kB 4.8MB/s eta 0:00:01\r\u001b[K     |████████████                    | 368kB 4.8MB/s eta 0:00:01\r\u001b[K     |████████████▎                   | 378kB 4.8MB/s eta 0:00:01\r\u001b[K     |████████████▋                   | 389kB 4.8MB/s eta 0:00:01\r\u001b[K     |█████████████                   | 399kB 4.8MB/s eta 0:00:01\r\u001b[K     |█████████████▎                  | 409kB 4.8MB/s eta 0:00:01\r\u001b[K     |█████████████▋                  | 419kB 4.8MB/s eta 0:00:01\r\u001b[K     |██████████████                  | 430kB 4.8MB/s eta 0:00:01\r\u001b[K     |██████████████▎                 | 440kB 4.8MB/s eta 0:00:01\r\u001b[K     |██████████████▋                 | 450kB 4.8MB/s eta 0:00:01\r\u001b[K     |███████████████                 | 460kB 4.8MB/s eta 0:00:01\r\u001b[K     |███████████████▎                | 471kB 4.8MB/s eta 0:00:01\r\u001b[K     |███████████████▋                | 481kB 4.8MB/s eta 0:00:01\r\u001b[K     |████████████████                | 491kB 4.8MB/s eta 0:00:01\r\u001b[K     |████████████████▎               | 501kB 4.8MB/s eta 0:00:01\r\u001b[K     |████████████████▋               | 512kB 4.8MB/s eta 0:00:01\r\u001b[K     |█████████████████               | 522kB 4.8MB/s eta 0:00:01\r\u001b[K     |█████████████████▎              | 532kB 4.8MB/s eta 0:00:01\r\u001b[K     |█████████████████▋              | 542kB 4.8MB/s eta 0:00:01\r\u001b[K     |██████████████████              | 552kB 4.8MB/s eta 0:00:01\r\u001b[K     |██████████████████▎             | 563kB 4.8MB/s eta 0:00:01\r\u001b[K     |██████████████████▋             | 573kB 4.8MB/s eta 0:00:01\r\u001b[K     |███████████████████             | 583kB 4.8MB/s eta 0:00:01\r\u001b[K     |███████████████████▎            | 593kB 4.8MB/s eta 0:00:01\r\u001b[K     |███████████████████▋            | 604kB 4.8MB/s eta 0:00:01\r\u001b[K     |████████████████████            | 614kB 4.8MB/s eta 0:00:01\r\u001b[K     |████████████████████▎           | 624kB 4.8MB/s eta 0:00:01\r\u001b[K     |████████████████████▋           | 634kB 4.8MB/s eta 0:00:01\r\u001b[K     |█████████████████████           | 645kB 4.8MB/s eta 0:00:01\r\u001b[K     |█████████████████████▎          | 655kB 4.8MB/s eta 0:00:01\r\u001b[K     |█████████████████████▋          | 665kB 4.8MB/s eta 0:00:01\r\u001b[K     |██████████████████████          | 675kB 4.8MB/s eta 0:00:01\r\u001b[K     |██████████████████████▎         | 686kB 4.8MB/s eta 0:00:01\r\u001b[K     |██████████████████████▋         | 696kB 4.8MB/s eta 0:00:01\r\u001b[K     |███████████████████████         | 706kB 4.8MB/s eta 0:00:01\r\u001b[K     |███████████████████████▎        | 716kB 4.8MB/s eta 0:00:01\r\u001b[K     |███████████████████████▋        | 727kB 4.8MB/s eta 0:00:01\r\u001b[K     |████████████████████████        | 737kB 4.8MB/s eta 0:00:01\r\u001b[K     |████████████████████████▎       | 747kB 4.8MB/s eta 0:00:01\r\u001b[K     |████████████████████████▋       | 757kB 4.8MB/s eta 0:00:01\r\u001b[K     |████████████████████████▉       | 768kB 4.8MB/s eta 0:00:01\r\u001b[K     |█████████████████████████▏      | 778kB 4.8MB/s eta 0:00:01\r\u001b[K     |█████████████████████████▌      | 788kB 4.8MB/s eta 0:00:01\r\u001b[K     |█████████████████████████▉      | 798kB 4.8MB/s eta 0:00:01\r\u001b[K     |██████████████████████████▏     | 808kB 4.8MB/s eta 0:00:01\r\u001b[K     |██████████████████████████▌     | 819kB 4.8MB/s eta 0:00:01\r\u001b[K     |██████████████████████████▉     | 829kB 4.8MB/s eta 0:00:01\r\u001b[K     |███████████████████████████▏    | 839kB 4.8MB/s eta 0:00:01\r\u001b[K     |███████████████████████████▌    | 849kB 4.8MB/s eta 0:00:01\r\u001b[K     |███████████████████████████▉    | 860kB 4.8MB/s eta 0:00:01\r\u001b[K     |████████████████████████████▏   | 870kB 4.8MB/s eta 0:00:01\r\u001b[K     |████████████████████████████▌   | 880kB 4.8MB/s eta 0:00:01\r\u001b[K     |████████████████████████████▉   | 890kB 4.8MB/s eta 0:00:01\r\u001b[K     |█████████████████████████████▏  | 901kB 4.8MB/s eta 0:00:01\r\u001b[K     |█████████████████████████████▌  | 911kB 4.8MB/s eta 0:00:01\r\u001b[K     |█████████████████████████████▉  | 921kB 4.8MB/s eta 0:00:01\r\u001b[K     |██████████████████████████████▏ | 931kB 4.8MB/s eta 0:00:01\r\u001b[K     |██████████████████████████████▌ | 942kB 4.8MB/s eta 0:00:01\r\u001b[K     |██████████████████████████████▉ | 952kB 4.8MB/s eta 0:00:01\r\u001b[K     |███████████████████████████████▏| 962kB 4.8MB/s eta 0:00:01\r\u001b[K     |███████████████████████████████▌| 972kB 4.8MB/s eta 0:00:01\r\u001b[K     |███████████████████████████████▉| 983kB 4.8MB/s eta 0:00:01\r\u001b[K     |████████████████████████████████| 993kB 4.8MB/s \n",
            "\u001b[?25h  Building wheel for PyDrive (setup.py) ... \u001b[?25l\u001b[?25hdone\n"
          ],
          "name": "stdout"
        }
      ]
    },
    {
      "cell_type": "code",
      "metadata": {
        "id": "Q-_17XzuEsRx",
        "colab_type": "code",
        "outputId": "9030de61-7bad-434c-f300-29d6647996ac",
        "colab": {
          "base_uri": "https://localhost:8080/",
          "height": 204
        }
      },
      "source": [
        "downloaded = drive.CreateFile({'id':'1M5Bmmlz8zxKpTbzdN8LJguCLpQaFDg5_'})\n",
        "\n",
        "# Download the file to a local disk as 'sample.csv'.\n",
        "downloaded.GetContentFile('Data2019PS2.csv')\n",
        "\n",
        "import pandas as pd\n",
        "df = pd.read_csv('Data2019PS2.csv', header = None)\n",
        "df.head()"
      ],
      "execution_count": 4,
      "outputs": [
        {
          "output_type": "execute_result",
          "data": {
            "text/html": [
              "<div>\n",
              "<style scoped>\n",
              "    .dataframe tbody tr th:only-of-type {\n",
              "        vertical-align: middle;\n",
              "    }\n",
              "\n",
              "    .dataframe tbody tr th {\n",
              "        vertical-align: top;\n",
              "    }\n",
              "\n",
              "    .dataframe thead th {\n",
              "        text-align: right;\n",
              "    }\n",
              "</style>\n",
              "<table border=\"1\" class=\"dataframe\">\n",
              "  <thead>\n",
              "    <tr style=\"text-align: right;\">\n",
              "      <th></th>\n",
              "      <th>0</th>\n",
              "      <th>1</th>\n",
              "      <th>2</th>\n",
              "    </tr>\n",
              "  </thead>\n",
              "  <tbody>\n",
              "    <tr>\n",
              "      <th>0</th>\n",
              "      <td>1.0</td>\n",
              "      <td>1.0</td>\n",
              "      <td>127379.0</td>\n",
              "    </tr>\n",
              "    <tr>\n",
              "      <th>1</th>\n",
              "      <td>1.0</td>\n",
              "      <td>2.0</td>\n",
              "      <td>128477.0</td>\n",
              "    </tr>\n",
              "    <tr>\n",
              "      <th>2</th>\n",
              "      <td>1.0</td>\n",
              "      <td>3.0</td>\n",
              "      <td>132527.0</td>\n",
              "    </tr>\n",
              "    <tr>\n",
              "      <th>3</th>\n",
              "      <td>1.0</td>\n",
              "      <td>4.0</td>\n",
              "      <td>136916.0</td>\n",
              "    </tr>\n",
              "    <tr>\n",
              "      <th>4</th>\n",
              "      <td>1.0</td>\n",
              "      <td>6.0</td>\n",
              "      <td>139476.0</td>\n",
              "    </tr>\n",
              "  </tbody>\n",
              "</table>\n",
              "</div>"
            ],
            "text/plain": [
              "     0    1         2\n",
              "0  1.0  1.0  127379.0\n",
              "1  1.0  2.0  128477.0\n",
              "2  1.0  3.0  132527.0\n",
              "3  1.0  4.0  136916.0\n",
              "4  1.0  6.0  139476.0"
            ]
          },
          "metadata": {
            "tags": []
          },
          "execution_count": 4
        }
      ]
    },
    {
      "cell_type": "code",
      "metadata": {
        "id": "TFtV1neoDFpK",
        "colab_type": "code",
        "outputId": "88039e5c-6c24-4295-f7d6-1e24567615bb",
        "colab": {
          "base_uri": "https://localhost:8080/",
          "height": 34
        }
      },
      "source": [
        "# df =  pd.read_csv(filepath_or_buffer=\"/root/userspace/IOhw2/data/Data2019PS2.csv\", encoding=\"ms932\", sep=\",\")\n",
        "data = df.values.astype(dtype = 'int32')\n",
        "marketID = data[:,0]\n",
        "productID = data[:,1]\n",
        "\n",
        "char = np.arange(0.01,0.11, 0.01)\n",
        "print(\"Characteristics vector is\",char)"
      ],
      "execution_count": 5,
      "outputs": [
        {
          "output_type": "stream",
          "text": [
            "Characteristics vector is [0.01 0.02 0.03 0.04 0.05 0.06 0.07 0.08 0.09 0.1 ]\n"
          ],
          "name": "stdout"
        }
      ]
    },
    {
      "cell_type": "code",
      "metadata": {
        "id": "NiMxk9OVDFpQ",
        "colab_type": "code",
        "colab": {}
      },
      "source": [
        "# Set the numbers of Market size, markets, and observations.\n",
        "MS = 1000000\n",
        "nM = 1000\n",
        "nm = data.shape[0]\n",
        "ns = 1000 # num of simulations"
      ],
      "execution_count": 0,
      "outputs": []
    },
    {
      "cell_type": "code",
      "metadata": {
        "id": "yyb7Li2fDFpS",
        "colab_type": "code",
        "colab": {}
      },
      "source": [
        "from numpy.linalg import inv\n",
        "from numpy.linalg import norm\n",
        "# 説明変数を作る\n",
        "x = np.zeros(shape = (nm,1), dtype = 'float32')\n",
        "for i in range(10):\n",
        "    idx = np.where(productID == i+1)[0]\n",
        "#     print(i)\n",
        "    # productIDがマッチする商品の特性を代入する\n",
        "    x[idx] += char[i]\n",
        "X = np.concatenate((np.ones(shape =(nm,1), dtype = 'float32'), x), axis = 1)\n",
        "\n",
        "# print(x[0:10])\n",
        "\n",
        "# outside option のシェアを計算する\n",
        "def calc_outside(data, MS = 1000000):\n",
        "    num = np.zeros(shape =(nM,1), dtype = 'float32')\n",
        "    s0 = np.zeros(nM)\n",
        "    for m in range(nM):\n",
        "        idx = np.where(marketID == m+1)[0]\n",
        "        output_inmarket = data[idx,2] # marketID がmのデータのみ抽出\n",
        "        s0[m] = MS - np.sum(output_inmarket) #アウトサイドオプションの購入数\n",
        "        num[m] = np.shape(idx)[0] #マーケットmに入る企業数\n",
        "    return [s0, num]\n",
        "\n",
        "# マーケットサイズの変更をした場合のbetaを計算する\n",
        "def get_params(data, MS):\n",
        "    outside = calc_outside(data, MS)\n",
        "    s_out = outside[0]\n",
        "    num = outside[1].astype(dtype = 'int32')\n",
        "#     print(type(num))\n",
        "    for m in range(nM):\n",
        "        if (m == 0):\n",
        "            # outside[0]がoutside optionの数, outside[1]はそのマーケットの商品数\n",
        "            s0 = s_out[m]* np.ones(shape = (num[m]), dtype = 'float32' )\n",
        "        else:\n",
        "            # 初回以降は単純に継ぎ足ししていく。\n",
        "            s0 = np.concatenate((s0, s_out[m]  * np.ones(shape = (num[m]), dtype = 'float32' )),  axis = 0)\n",
        "    sJ = data[:, 2]/MS\n",
        "    delta = np.log(sJ) - np.log(s0)\n",
        "    beta = np.matmul( inv(np.matmul(np.transpose(X),X)),\\\n",
        "                     np.matmul(np.transpose(X), delta) )\n",
        "    return [beta, delta, num, sJ]\n",
        "\n",
        "# problem(a)\n",
        "beta0 = get_params(data, MS = MS)[0]\n",
        "beta1 = get_params(data, MS = 2000000)[0]\n",
        "beta2 = get_params(data, MS = 4000000)[0]\n"
      ],
      "execution_count": 0,
      "outputs": []
    },
    {
      "cell_type": "code",
      "metadata": {
        "id": "E_0ENkW0L1kN",
        "colab_type": "code",
        "outputId": "f9e1b2e0-41c5-4d48-83c5-0336d7cd240f",
        "colab": {
          "base_uri": "https://localhost:8080/",
          "height": 34
        }
      },
      "source": [
        "print(beta0, beta1, beta2)"
      ],
      "execution_count": 8,
      "outputs": [
        {
          "output_type": "stream",
          "text": [
            "[-12.81724261   1.97382589] [-16.6783381    1.85913353] [-18.4410433    1.85525253]\n"
          ],
          "name": "stdout"
        }
      ]
    },
    {
      "cell_type": "code",
      "metadata": {
        "id": "6TO4yPqPDFpV",
        "colab_type": "code",
        "colab": {}
      },
      "source": [
        "# X = tf.placeholder(dtype = tf.float32, shape = [None,2])\n",
        "# obs = tf.shape(X)[0]\n",
        "# const = tf.Variable(tf.zeros(obs,1), dtype = tf.float32)\n"
      ],
      "execution_count": 0,
      "outputs": []
    },
    {
      "cell_type": "code",
      "metadata": {
        "id": "afc5OkR3DFpY",
        "colab_type": "code",
        "colab": {}
      },
      "source": [
        ""
      ],
      "execution_count": 0,
      "outputs": []
    },
    {
      "cell_type": "markdown",
      "metadata": {
        "id": "hyWrH5rpMLP9",
        "colab_type": "text"
      },
      "source": [
        "### BLP algorithm\n",
        "まずはじめに、`randn`を使って乱数を生成する。  \n",
        "そのあとで、deltaの初期値として、$\\log(sJ) - \\log(s0)$を`get_params`から\n",
        "取り出す。"
      ]
    },
    {
      "cell_type": "code",
      "metadata": {
        "id": "E5RQCA94MNet",
        "colab_type": "code",
        "outputId": "8f7ae22b-e922-44a6-c653-991dd2f55dcd",
        "colab": {
          "base_uri": "https://localhost:8080/",
          "height": 34
        }
      },
      "source": [
        "# generate random numbers\n",
        "nu = np.random.randn(ns,1)\n",
        "print(nu.shape)\n",
        "# delta initial value\n",
        "beta, delta_init, outside_num, sJ = get_params(data, MS = MS)\n",
        "delta_init = delta_init[:, None]"
      ],
      "execution_count": 9,
      "outputs": [
        {
          "output_type": "stream",
          "text": [
            "(1000, 1)\n"
          ],
          "name": "stdout"
        }
      ]
    },
    {
      "cell_type": "markdown",
      "metadata": {
        "id": "F7R2ak35NVX6",
        "colab_type": "text"
      },
      "source": [
        "outerloopを回して目的関数最小化問題を解きたいので、`innerloop`関数と\n",
        "`outerloop`関数を定義する。  \n",
        "まずは、`innerloop`から。"
      ]
    },
    {
      "cell_type": "code",
      "metadata": {
        "id": "RQySJuU4NpsM",
        "colab_type": "code",
        "colab": {}
      },
      "source": [
        "def calc_matmu(Sigma):\n",
        "#   print(Sigma.shape)\n",
        "#   print(nu.shape)\n",
        "  x_2 = X[:,1]\n",
        "  return np.matmul(x_2[:,None],  np.transpose(nu)) * Sigma[0,0]\n",
        "\n",
        "def innerloop_subroutine_oldver(delta, sigma, outside_num):\n",
        "  delta = delta[:,None]\n",
        "  matdelta = np.matmul(delta, np.ones(shape = (1, ns)))\n",
        "  Sigma = np.array([[sigma]])\n",
        "  matmu = calc_matmu(Sigma)\n",
        "  matexp = np.exp(matdelta + matmu)\n",
        "  print(matexp.shape)\n",
        "  # divide this matrix into 1000 matrix for each market\n",
        "  labels = np.cumsum(outside_num)\n",
        "  print(labels[0:3])\n",
        "  for m in range(nM):\n",
        "    if (m == 0):\n",
        "      start = 0\n",
        "      markexp = matexp[start:labels[m], :]\n",
        "#       print(markexp[:,1])\n",
        "      denom_m = np.sum(markexp, axis = 0) + 1\n",
        "      Mexp = np.matmul(markexp, inv(np.diag(denom_m)))\n",
        "#       print(Mexp.shape)\n",
        "      start = labels[m]\n",
        "    else:\n",
        "      markexp = matexp[start:(labels[m]), :]\n",
        "      denom_m = np.sum(markexp, axis = 0) + 1\n",
        "      Mexp = np.concatenate((Mexp, np.matmul(markexp, inv(np.diag(denom_m)))), axis = 0)\n",
        "      if (m % 100 == 0):\n",
        "        print('MarketID is: {}'.format(m))\n",
        "      start = labels[m]\n",
        "  \n",
        "  # calculate the profile of shares from delta\n",
        "  sRC = np.sum(Mexp, axis = 1)/ns\n",
        "  diff = np.log(sJ) - np.log(sRC)\n",
        "  newdelta = delta + diff\n",
        "  dist = norm(diff)\n",
        "  return newdelta, dist\n",
        "\n",
        "def innerloop_subroutine(delta, sigma, outside_num):\n",
        "  delta = delta[:,None]\n",
        "  matdelta = np.matmul(delta, np.ones(shape = (1, ns)))\n",
        "  Sigma = np.array([[sigma]])\n",
        "  matmu = calc_matmu(Sigma)\n",
        "  matexp = np.exp(matdelta + matmu)\n",
        "  print(matexp.shape)\n",
        "  # divide this matrix into 1000 matrix for each market\n",
        "  labels = np.cumsum(outside_num) # 何行目でマーケットが変わるか、という合図。\n",
        "  print(labels[0:3])\n",
        "  for m in range(nM):\n",
        "    if (m == 0):\n",
        "      start = 0\n",
        "      nprod_m = labels[m] # マーケットmでの商品の種類\n",
        "      end = start + nprod_m # マーケットmで一番最後の商品の行の番号\n",
        "      markexp = matexp[start:end , :] #マーケットmに限定した小行列\n",
        "#       print(markexp[:,1])\n",
        "      denom_m = np.sum(markexp, axis = 0) + 1\n",
        "      denom_mat = np.matlib.repmat(denom_m, (npord_m,1))\n",
        "#       print(Mexp.shape)\n",
        "    else:\n",
        "      start = labels[m-1]\n",
        "      end = labels[m]\n",
        "      nprod_m = end - start\n",
        "      markexp = matexp[start:end, :]\n",
        "      denom_m = np.sum(markexp, axis = 0) + 1\n",
        "      denom_mat = np.concatenate((denom_mat, denom_m), axis = 0)\n",
        "      if (m % 100 == 0):\n",
        "        print('MarketID is: {}'.format(m))\n",
        "  \n",
        "  print(denom_mat.shape)\n",
        "  # calculate the profile of shares from delta\n",
        "  Mexp = matexp * denom_mat\n",
        "  sRC = np.sum(Mexp, axis = 1)/ns\n",
        "  diff = np.log(sJ) - np.log(sRC)\n",
        "  newdelta = delta + diff\n",
        "  dist = norm(diff)\n",
        "  return newdelta, dist\n",
        "\n",
        "def nevoshort(delta):\n",
        "  N = np.shape(X)[0]\n",
        "  if (np.shape(delta)[0] != N):\n",
        "    print('the length does not match.')\n",
        "    return 0\n",
        "  beta = np.matmul(inv(np.matmul(np.transpose(X), X)),  np.matmul(np.transpose(X), delta))\n",
        "  xi = delta - np.matmul(X, beta)\n",
        "  return xi\n",
        "\n",
        "def outerloop_subroutine(sigma):\n",
        "  sigma = norm(sigma)\n",
        "  dist = 10\n",
        "  delta = delta_init\n",
        "  i = 0\n",
        "  while (dist > 1e-6):\n",
        "    newdelta, dist = innerloop_subroutine(delta, sigma, outside_num)\n",
        "    delta = newdelta\n",
        "    i += 1\n",
        "    if ((i +1) % 10 == 0):\n",
        "      print('Innerloop Iteration: {}'.format(i))\n",
        "  # ここでdeltaを得たので、xiと目的関数の計算に移る\n",
        "  xi = nevoshort(delta)\n",
        "  M = np.shape(xi)[0]\n",
        "  W = np.eye(M)\n",
        "  Q = np.matmul(np.matmul(np.transpose(xi), W), xi)\n",
        "  return Q\n",
        "\n",
        "  \n",
        "    "
      ],
      "execution_count": 0,
      "outputs": []
    },
    {
      "cell_type": "code",
      "metadata": {
        "id": "Mpd7EQJUNJPi",
        "colab_type": "code",
        "colab": {}
      },
      "source": [
        "sigma_init = 0.5\n",
        "\n",
        "innerloop_subroutine(delta_init, sigma_init, outside_num)"
      ],
      "execution_count": 0,
      "outputs": []
    },
    {
      "cell_type": "markdown",
      "metadata": {
        "id": "5SxUQSIdkleE",
        "colab_type": "text"
      },
      "source": [
        "## いよいよOuterloop\n"
      ]
    },
    {
      "cell_type": "code",
      "metadata": {
        "id": "68r_0qtyWeqi",
        "colab_type": "code",
        "colab": {}
      },
      "source": [
        "from scipy.optimize import fmin\n",
        "import matplotlib.pyplot as plt\n",
        "\n",
        "# fmin(outerloop_subroutine,[[sigma_init,]])\n",
        "\n",
        "count = 0\n",
        "plt.axis([0, 100, 0, 6.5])\n",
        "plt.ion()\n",
        "\n",
        "def cbf(sigma):\n",
        "    global count\n",
        "    count += 1\n",
        "    f = outerloop_subroutine(sigma)\n",
        "#     print('%d, %f,  %f' % (count, sigma, f))\n",
        "    plt.scatter(count, f)\n",
        "\n",
        "# banana = lambda X, a: 100*(X[1] - X[0]**2)**2 + (a - X[0])**2\n",
        "# a = math.sqrt(2)\n",
        "# arg = (a, )\n",
        "[xopt, fopt, iter, funcalls, warnflag, allvecs] = fmin(outerloop_subroutine,  \\\n",
        "                                                        sigma_init, \\\n",
        "                                                        xtol=1e-4, ftol=1e-4,\\\n",
        "                                                       maxiter=400, maxfun=400,\\\n",
        "                                                      retall = True, full_output = True)\n",
        "# 動かしたくない変数があるときはarg = argを引数に追加。"
      ],
      "execution_count": 0,
      "outputs": []
    },
    {
      "cell_type": "code",
      "metadata": {
        "id": "2XhKVJFjWuOP",
        "colab_type": "code",
        "colab": {}
      },
      "source": [
        ""
      ],
      "execution_count": 0,
      "outputs": []
    }
  ]
}